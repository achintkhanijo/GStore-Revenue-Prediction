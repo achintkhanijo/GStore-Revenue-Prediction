{
 "cells": [
  {
   "attachments": {
    "flowchart.png": {
     "image/png": "[encoded data removed]"
    }
   },
   "cell_type": "markdown",
   "metadata": {},
   "source": [
    "In your project you have been working with a bias dataset. Most probabely suupervised models were underfit. You should remember that this is a real dataset, and in real life most of the time you dont have access to clean and unbias dataset. In situations like this, none of the regression models will have a good fit for the dataset due to the large predence of the 0s. In the first part of this take-home exam, you are asked to be creative, and find a solution for this problem. \n",
    "\n",
    "For this dataset, you can break the problem, into a two-step machine learning model. \n",
    "\n",
    "First step is to classify the data points as positive revenue and zero revenue. This simply is a binary classification. You should remember that when you are dealing with biased datasets, accuracy is not a reliable scoring metric. So look for a robust scoring function. \n",
    "\n",
    "Next, you need to build a regression model to postprocess classification results. Here is a flow chart to show you the outline of the model. \n",
    "\n",
    "![flowchart.png](attachment:flowchart.png)"
   ]
  },
  {
   "cell_type": "markdown",
   "metadata": {},
   "source": [
    "# Classification\n",
    "# Importing dataframe from previous exercise"
   ]
  },
  {
   "cell_type": "code",
   "execution_count": 1,
   "metadata": {},
   "outputs": [],
   "source": [
    "import pandas as pd\n",
    "import numpy as np\n",
    "import matplotlib.pyplot as plt\n",
    "df = pd.read_csv('final_df.csv')"
   ]
  },
  {
   "cell_type": "code",
   "execution_count": 2,
   "metadata": {},
   "outputs": [
    {
     "data": {
      "text/plain": [
       "(16335, 62)"
      ]
     },
     "execution_count": 2,
     "metadata": {},
     "output_type": "execute_result"
    }
   ],
   "source": [
    "df.shape"
   ]
  },
  {
   "cell_type": "code",
   "execution_count": 3,
   "metadata": {},
   "outputs": [],
   "source": [
    "df.drop('Unnamed: 0',axis=1,inplace=True)"
   ]
  },
  {
   "cell_type": "code",
   "execution_count": 4,
   "metadata": {},
   "outputs": [
    {
     "name": "stdout",
     "output_type": "stream",
     "text": [
      "<class 'pandas.core.frame.DataFrame'>\n",
      "RangeIndex: 16335 entries, 0 to 16334\n",
      "Data columns (total 61 columns):\n",
      "isMobile                                 16335 non-null int64\n",
      "hasSocialSourceReferral                  16335 non-null float64\n",
      "hitNumber                                16335 non-null int64\n",
      "localProductPrice                        16335 non-null float64\n",
      "visitNumber                              16335 non-null int64\n",
      "totals_hits                              16335 non-null int64\n",
      "totals_pageviews                         16335 non-null float64\n",
      "totals_sessionQualityDim                 16335 non-null float64\n",
      "totals_timeOnSite                        16335 non-null float64\n",
      "totals_transactionRevenue                16335 non-null float64\n",
      "totals_visits                            16335 non-null int64\n",
      "channelGrouping_Affiliates               16335 non-null int64\n",
      "channelGrouping_Direct                   16335 non-null int64\n",
      "channelGrouping_Display                  16335 non-null int64\n",
      "channelGrouping_Organic Search           16335 non-null int64\n",
      "channelGrouping_Paid Search              16335 non-null int64\n",
      "channelGrouping_Referral                 16335 non-null int64\n",
      "channelGrouping_Social                   16335 non-null int64\n",
      "customDimensions_APAC                    16335 non-null int64\n",
      "customDimensions_Central America         16335 non-null int64\n",
      "customDimensions_EMEA                    16335 non-null int64\n",
      "customDimensions_North America           16335 non-null int64\n",
      "customDimensions_South America           16335 non-null int64\n",
      "country_Argentina                        16335 non-null int64\n",
      "country_Australia                        16335 non-null int64\n",
      "country_Belgium                          16335 non-null int64\n",
      "country_Brazil                           16335 non-null int64\n",
      "country_Canada                           16335 non-null int64\n",
      "country_France                           16335 non-null int64\n",
      "country_Germany                          16335 non-null int64\n",
      "country_India                            16335 non-null int64\n",
      "country_Indonesia                        16335 non-null int64\n",
      "country_Ireland                          16335 non-null int64\n",
      "country_Italy                            16335 non-null int64\n",
      "country_Japan                            16335 non-null int64\n",
      "country_Mexico                           16335 non-null int64\n",
      "country_Netherlands                      16335 non-null int64\n",
      "country_Poland                           16335 non-null int64\n",
      "country_Russia                           16335 non-null int64\n",
      "country_Singapore                        16335 non-null int64\n",
      "country_Spain                            16335 non-null int64\n",
      "country_Sweden                           16335 non-null int64\n",
      "country_Switzerland                      16335 non-null int64\n",
      "country_Taiwan                           16335 non-null int64\n",
      "country_Turkey                           16335 non-null int64\n",
      "country_United Kingdom                   16335 non-null int64\n",
      "country_United States                    16335 non-null int64\n",
      "trafficSource_(direct)                   16335 non-null int64\n",
      "trafficSource_Partners                   16335 non-null int64\n",
      "trafficSource_baidu                      16335 non-null int64\n",
      "trafficSource_bing                       16335 non-null int64\n",
      "trafficSource_blog.golang.org            16335 non-null int64\n",
      "trafficSource_dfa                        16335 non-null int64\n",
      "trafficSource_facebook                   16335 non-null int64\n",
      "trafficSource_google                     16335 non-null int64\n",
      "trafficSource_qiita.com                  16335 non-null int64\n",
      "trafficSource_quora.com                  16335 non-null int64\n",
      "trafficSource_reddit.com                 16335 non-null int64\n",
      "trafficSource_siliconvalley.about.com    16335 non-null int64\n",
      "trafficSource_yahoo                      16335 non-null int64\n",
      "trafficSource_youtube                    16335 non-null int64\n",
      "dtypes: float64(6), int64(55)\n",
      "memory usage: 7.6 MB\n"
     ]
    }
   ],
   "source": [
    "df.info()"
   ]
  },
  {
   "cell_type": "code",
   "execution_count": 5,
   "metadata": {},
   "outputs": [
    {
     "data": {
      "text/html": [
       "<div>\n",
       "<style scoped>\n",
       "    .dataframe tbody tr th:only-of-type {\n",
       "        vertical-align: middle;\n",
       "    }\n",
       "\n",
       "    .dataframe tbody tr th {\n",
       "        vertical-align: top;\n",
       "    }\n",
       "\n",
       "    .dataframe thead th {\n",
       "        text-align: right;\n",
       "    }\n",
       "</style>\n",
       "<table border=\"1\" class=\"dataframe\">\n",
       "  <thead>\n",
       "    <tr style=\"text-align: right;\">\n",
       "      <th></th>\n",
       "      <th>isMobile</th>\n",
       "      <th>hasSocialSourceReferral</th>\n",
       "      <th>hitNumber</th>\n",
       "      <th>localProductPrice</th>\n",
       "      <th>visitNumber</th>\n",
       "      <th>totals_hits</th>\n",
       "      <th>totals_pageviews</th>\n",
       "      <th>totals_sessionQualityDim</th>\n",
       "      <th>totals_timeOnSite</th>\n",
       "      <th>totals_transactionRevenue</th>\n",
       "      <th>...</th>\n",
       "      <th>trafficSource_blog.golang.org</th>\n",
       "      <th>trafficSource_dfa</th>\n",
       "      <th>trafficSource_facebook</th>\n",
       "      <th>trafficSource_google</th>\n",
       "      <th>trafficSource_qiita.com</th>\n",
       "      <th>trafficSource_quora.com</th>\n",
       "      <th>trafficSource_reddit.com</th>\n",
       "      <th>trafficSource_siliconvalley.about.com</th>\n",
       "      <th>trafficSource_yahoo</th>\n",
       "      <th>trafficSource_youtube</th>\n",
       "    </tr>\n",
       "  </thead>\n",
       "  <tbody>\n",
       "    <tr>\n",
       "      <th>0</th>\n",
       "      <td>0</td>\n",
       "      <td>0.0</td>\n",
       "      <td>1</td>\n",
       "      <td>14.240000</td>\n",
       "      <td>1</td>\n",
       "      <td>1</td>\n",
       "      <td>1.0</td>\n",
       "      <td>1.0</td>\n",
       "      <td>0.0</td>\n",
       "      <td>0.0</td>\n",
       "      <td>...</td>\n",
       "      <td>0</td>\n",
       "      <td>0</td>\n",
       "      <td>0</td>\n",
       "      <td>1</td>\n",
       "      <td>0</td>\n",
       "      <td>0</td>\n",
       "      <td>0</td>\n",
       "      <td>0</td>\n",
       "      <td>0</td>\n",
       "      <td>0</td>\n",
       "    </tr>\n",
       "    <tr>\n",
       "      <th>1</th>\n",
       "      <td>0</td>\n",
       "      <td>0.0</td>\n",
       "      <td>2</td>\n",
       "      <td>17.790000</td>\n",
       "      <td>6</td>\n",
       "      <td>2</td>\n",
       "      <td>2.0</td>\n",
       "      <td>2.0</td>\n",
       "      <td>28.0</td>\n",
       "      <td>0.0</td>\n",
       "      <td>...</td>\n",
       "      <td>0</td>\n",
       "      <td>0</td>\n",
       "      <td>0</td>\n",
       "      <td>1</td>\n",
       "      <td>0</td>\n",
       "      <td>0</td>\n",
       "      <td>0</td>\n",
       "      <td>0</td>\n",
       "      <td>0</td>\n",
       "      <td>0</td>\n",
       "    </tr>\n",
       "    <tr>\n",
       "      <th>2</th>\n",
       "      <td>1</td>\n",
       "      <td>0.0</td>\n",
       "      <td>2</td>\n",
       "      <td>19.418571</td>\n",
       "      <td>1</td>\n",
       "      <td>2</td>\n",
       "      <td>2.0</td>\n",
       "      <td>1.0</td>\n",
       "      <td>38.0</td>\n",
       "      <td>0.0</td>\n",
       "      <td>...</td>\n",
       "      <td>0</td>\n",
       "      <td>0</td>\n",
       "      <td>0</td>\n",
       "      <td>0</td>\n",
       "      <td>0</td>\n",
       "      <td>0</td>\n",
       "      <td>0</td>\n",
       "      <td>0</td>\n",
       "      <td>0</td>\n",
       "      <td>0</td>\n",
       "    </tr>\n",
       "    <tr>\n",
       "      <th>3</th>\n",
       "      <td>0</td>\n",
       "      <td>0.0</td>\n",
       "      <td>2</td>\n",
       "      <td>20.262727</td>\n",
       "      <td>1</td>\n",
       "      <td>2</td>\n",
       "      <td>2.0</td>\n",
       "      <td>1.0</td>\n",
       "      <td>1.0</td>\n",
       "      <td>0.0</td>\n",
       "      <td>...</td>\n",
       "      <td>0</td>\n",
       "      <td>0</td>\n",
       "      <td>0</td>\n",
       "      <td>1</td>\n",
       "      <td>0</td>\n",
       "      <td>0</td>\n",
       "      <td>0</td>\n",
       "      <td>0</td>\n",
       "      <td>0</td>\n",
       "      <td>0</td>\n",
       "    </tr>\n",
       "    <tr>\n",
       "      <th>4</th>\n",
       "      <td>0</td>\n",
       "      <td>0.0</td>\n",
       "      <td>2</td>\n",
       "      <td>0.000000</td>\n",
       "      <td>1</td>\n",
       "      <td>2</td>\n",
       "      <td>2.0</td>\n",
       "      <td>1.0</td>\n",
       "      <td>52.0</td>\n",
       "      <td>0.0</td>\n",
       "      <td>...</td>\n",
       "      <td>0</td>\n",
       "      <td>0</td>\n",
       "      <td>0</td>\n",
       "      <td>1</td>\n",
       "      <td>0</td>\n",
       "      <td>0</td>\n",
       "      <td>0</td>\n",
       "      <td>0</td>\n",
       "      <td>0</td>\n",
       "      <td>0</td>\n",
       "    </tr>\n",
       "  </tbody>\n",
       "</table>\n",
       "<p>5 rows × 61 columns</p>\n",
       "</div>"
      ],
      "text/plain": [
       "   isMobile  hasSocialSourceReferral  hitNumber  localProductPrice  \\\n",
       "0         0                      0.0          1          14.240000   \n",
       "1         0                      0.0          2          17.790000   \n",
       "2         1                      0.0          2          19.418571   \n",
       "3         0                      0.0          2          20.262727   \n",
       "4         0                      0.0          2           0.000000   \n",
       "\n",
       "   visitNumber  totals_hits  totals_pageviews  totals_sessionQualityDim  \\\n",
       "0            1            1               1.0                       1.0   \n",
       "1            6            2               2.0                       2.0   \n",
       "2            1            2               2.0                       1.0   \n",
       "3            1            2               2.0                       1.0   \n",
       "4            1            2               2.0                       1.0   \n",
       "\n",
       "   totals_timeOnSite  totals_transactionRevenue          ...            \\\n",
       "0                0.0                        0.0          ...             \n",
       "1               28.0                        0.0          ...             \n",
       "2               38.0                        0.0          ...             \n",
       "3                1.0                        0.0          ...             \n",
       "4               52.0                        0.0          ...             \n",
       "\n",
       "   trafficSource_blog.golang.org  trafficSource_dfa  trafficSource_facebook  \\\n",
       "0                              0                  0                       0   \n",
       "1                              0                  0                       0   \n",
       "2                              0                  0                       0   \n",
       "3                              0                  0                       0   \n",
       "4                              0                  0                       0   \n",
       "\n",
       "   trafficSource_google  trafficSource_qiita.com  trafficSource_quora.com  \\\n",
       "0                     1                        0                        0   \n",
       "1                     1                        0                        0   \n",
       "2                     0                        0                        0   \n",
       "3                     1                        0                        0   \n",
       "4                     1                        0                        0   \n",
       "\n",
       "   trafficSource_reddit.com  trafficSource_siliconvalley.about.com  \\\n",
       "0                         0                                      0   \n",
       "1                         0                                      0   \n",
       "2                         0                                      0   \n",
       "3                         0                                      0   \n",
       "4                         0                                      0   \n",
       "\n",
       "   trafficSource_yahoo  trafficSource_youtube  \n",
       "0                    0                      0  \n",
       "1                    0                      0  \n",
       "2                    0                      0  \n",
       "3                    0                      0  \n",
       "4                    0                      0  \n",
       "\n",
       "[5 rows x 61 columns]"
      ]
     },
     "execution_count": 5,
     "metadata": {},
     "output_type": "execute_result"
    }
   ],
   "source": [
    "df.head()"
   ]
  },
  {
   "cell_type": "markdown",
   "metadata": {},
   "source": [
    "# Splitting X and y columns"
   ]
  },
  {
   "cell_type": "code",
   "execution_count": 6,
   "metadata": {},
   "outputs": [],
   "source": [
    "X = df.drop('totals_transactionRevenue',axis=1)\n",
    "y = df['totals_transactionRevenue']"
   ]
  },
  {
   "cell_type": "code",
   "execution_count": 7,
   "metadata": {},
   "outputs": [
    {
     "name": "stdout",
     "output_type": "stream",
     "text": [
      "X: (16335, 60) \tY: (16335,)\n"
     ]
    }
   ],
   "source": [
    "print('X:',X.shape,'\\tY:',y.shape)"
   ]
  },
  {
   "cell_type": "code",
   "execution_count": 8,
   "metadata": {},
   "outputs": [
    {
     "name": "stdout",
     "output_type": "stream",
     "text": [
      "<class 'pandas.core.frame.DataFrame'>\n",
      "RangeIndex: 16335 entries, 0 to 16334\n",
      "Data columns (total 60 columns):\n",
      "isMobile                                 16335 non-null int64\n",
      "hasSocialSourceReferral                  16335 non-null float64\n",
      "hitNumber                                16335 non-null int64\n",
      "localProductPrice                        16335 non-null float64\n",
      "visitNumber                              16335 non-null int64\n",
      "totals_hits                              16335 non-null int64\n",
      "totals_pageviews                         16335 non-null float64\n",
      "totals_sessionQualityDim                 16335 non-null float64\n",
      "totals_timeOnSite                        16335 non-null float64\n",
      "totals_visits                            16335 non-null int64\n",
      "channelGrouping_Affiliates               16335 non-null int64\n",
      "channelGrouping_Direct                   16335 non-null int64\n",
      "channelGrouping_Display                  16335 non-null int64\n",
      "channelGrouping_Organic Search           16335 non-null int64\n",
      "channelGrouping_Paid Search              16335 non-null int64\n",
      "channelGrouping_Referral                 16335 non-null int64\n",
      "channelGrouping_Social                   16335 non-null int64\n",
      "customDimensions_APAC                    16335 non-null int64\n",
      "customDimensions_Central America         16335 non-null int64\n",
      "customDimensions_EMEA                    16335 non-null int64\n",
      "customDimensions_North America           16335 non-null int64\n",
      "customDimensions_South America           16335 non-null int64\n",
      "country_Argentina                        16335 non-null int64\n",
      "country_Australia                        16335 non-null int64\n",
      "country_Belgium                          16335 non-null int64\n",
      "country_Brazil                           16335 non-null int64\n",
      "country_Canada                           16335 non-null int64\n",
      "country_France                           16335 non-null int64\n",
      "country_Germany                          16335 non-null int64\n",
      "country_India                            16335 non-null int64\n",
      "country_Indonesia                        16335 non-null int64\n",
      "country_Ireland                          16335 non-null int64\n",
      "country_Italy                            16335 non-null int64\n",
      "country_Japan                            16335 non-null int64\n",
      "country_Mexico                           16335 non-null int64\n",
      "country_Netherlands                      16335 non-null int64\n",
      "country_Poland                           16335 non-null int64\n",
      "country_Russia                           16335 non-null int64\n",
      "country_Singapore                        16335 non-null int64\n",
      "country_Spain                            16335 non-null int64\n",
      "country_Sweden                           16335 non-null int64\n",
      "country_Switzerland                      16335 non-null int64\n",
      "country_Taiwan                           16335 non-null int64\n",
      "country_Turkey                           16335 non-null int64\n",
      "country_United Kingdom                   16335 non-null int64\n",
      "country_United States                    16335 non-null int64\n",
      "trafficSource_(direct)                   16335 non-null int64\n",
      "trafficSource_Partners                   16335 non-null int64\n",
      "trafficSource_baidu                      16335 non-null int64\n",
      "trafficSource_bing                       16335 non-null int64\n",
      "trafficSource_blog.golang.org            16335 non-null int64\n",
      "trafficSource_dfa                        16335 non-null int64\n",
      "trafficSource_facebook                   16335 non-null int64\n",
      "trafficSource_google                     16335 non-null int64\n",
      "trafficSource_qiita.com                  16335 non-null int64\n",
      "trafficSource_quora.com                  16335 non-null int64\n",
      "trafficSource_reddit.com                 16335 non-null int64\n",
      "trafficSource_siliconvalley.about.com    16335 non-null int64\n",
      "trafficSource_yahoo                      16335 non-null int64\n",
      "trafficSource_youtube                    16335 non-null int64\n",
      "dtypes: float64(5), int64(55)\n",
      "memory usage: 7.5 MB\n"
     ]
    }
   ],
   "source": [
    "X.info()"
   ]
  },
  {
   "cell_type": "markdown",
   "metadata": {},
   "source": [
    "# Converting y to: 1 for any value > 0, 0 for 0"
   ]
  },
  {
   "cell_type": "code",
   "execution_count": 9,
   "metadata": {},
   "outputs": [],
   "source": [
    "y_clf = y.apply(lambda x: 1 if x>0 else 0)"
   ]
  },
  {
   "cell_type": "code",
   "execution_count": 10,
   "metadata": {},
   "outputs": [],
   "source": [
    "from sklearn.model_selection import train_test_split\n",
    "X_clf_train_org,X_clf_test_org,y_clf_train,y_clf_test = train_test_split(X,y_clf,random_state=3)"
   ]
  },
  {
   "cell_type": "markdown",
   "metadata": {},
   "source": [
    "# Scaling data using MinMaxScaler"
   ]
  },
  {
   "cell_type": "code",
   "execution_count": 11,
   "metadata": {},
   "outputs": [],
   "source": [
    "from sklearn.preprocessing import MinMaxScaler"
   ]
  },
  {
   "cell_type": "code",
   "execution_count": 12,
   "metadata": {},
   "outputs": [
    {
     "name": "stderr",
     "output_type": "stream",
     "text": [
      "c:\\users\\achin\\appdata\\local\\programs\\python\\python36\\lib\\site-packages\\sklearn\\preprocessing\\data.py:323: DataConversionWarning: Data with input dtype int64, float64 were all converted to float64 by MinMaxScaler.\n",
      "  return self.partial_fit(X, y)\n"
     ]
    }
   ],
   "source": [
    "mmsc = MinMaxScaler()\n",
    "X_clf_train = mmsc.fit_transform(X_clf_train_org)\n",
    "X_clf_test = mmsc.transform(X_clf_test_org)"
   ]
  },
  {
   "cell_type": "markdown",
   "metadata": {},
   "source": [
    "# Using classification as a first step in revenue prediction"
   ]
  },
  {
   "cell_type": "markdown",
   "metadata": {},
   "source": [
    "## Logistic Regression (Using recall as the evaluation metrics)"
   ]
  },
  {
   "cell_type": "code",
   "execution_count": 41,
   "metadata": {},
   "outputs": [],
   "source": [
    "from sklearn.model_selection import GridSearchCV\n",
    "from sklearn.linear_model import LogisticRegression\n",
    "params = {'C':[0.001, 0.01, 0.1, 1, 10, 100, 1000]}\n",
    "grid_logistic = GridSearchCV(LogisticRegression(),param_grid=params,cv=5,scoring='recall')"
   ]
  },
  {
   "cell_type": "code",
   "execution_count": 42,
   "metadata": {},
   "outputs": [
    {
     "name": "stderr",
     "output_type": "stream",
     "text": [
      "c:\\users\\achin\\appdata\\local\\programs\\python\\python36\\lib\\site-packages\\sklearn\\linear_model\\logistic.py:433: FutureWarning: Default solver will be changed to 'lbfgs' in 0.22. Specify a solver to silence this warning.\n",
      "  FutureWarning)\n",
      "c:\\users\\achin\\appdata\\local\\programs\\python\\python36\\lib\\site-packages\\sklearn\\linear_model\\logistic.py:433: FutureWarning: Default solver will be changed to 'lbfgs' in 0.22. Specify a solver to silence this warning.\n",
      "  FutureWarning)\n",
      "c:\\users\\achin\\appdata\\local\\programs\\python\\python36\\lib\\site-packages\\sklearn\\linear_model\\logistic.py:433: FutureWarning: Default solver will be changed to 'lbfgs' in 0.22. Specify a solver to silence this warning.\n",
      "  FutureWarning)\n",
      "c:\\users\\achin\\appdata\\local\\programs\\python\\python36\\lib\\site-packages\\sklearn\\linear_model\\logistic.py:433: FutureWarning: Default solver will be changed to 'lbfgs' in 0.22. Specify a solver to silence this warning.\n",
      "  FutureWarning)\n",
      "c:\\users\\achin\\appdata\\local\\programs\\python\\python36\\lib\\site-packages\\sklearn\\linear_model\\logistic.py:433: FutureWarning: Default solver will be changed to 'lbfgs' in 0.22. Specify a solver to silence this warning.\n",
      "  FutureWarning)\n",
      "c:\\users\\achin\\appdata\\local\\programs\\python\\python36\\lib\\site-packages\\sklearn\\linear_model\\logistic.py:433: FutureWarning: Default solver will be changed to 'lbfgs' in 0.22. Specify a solver to silence this warning.\n",
      "  FutureWarning)\n",
      "c:\\users\\achin\\appdata\\local\\programs\\python\\python36\\lib\\site-packages\\sklearn\\linear_model\\logistic.py:433: FutureWarning: Default solver will be changed to 'lbfgs' in 0.22. Specify a solver to silence this warning.\n",
      "  FutureWarning)\n",
      "c:\\users\\achin\\appdata\\local\\programs\\python\\python36\\lib\\site-packages\\sklearn\\linear_model\\logistic.py:433: FutureWarning: Default solver will be changed to 'lbfgs' in 0.22. Specify a solver to silence this warning.\n",
      "  FutureWarning)\n",
      "c:\\users\\achin\\appdata\\local\\programs\\python\\python36\\lib\\site-packages\\sklearn\\linear_model\\logistic.py:433: FutureWarning: Default solver will be changed to 'lbfgs' in 0.22. Specify a solver to silence this warning.\n",
      "  FutureWarning)\n",
      "c:\\users\\achin\\appdata\\local\\programs\\python\\python36\\lib\\site-packages\\sklearn\\linear_model\\logistic.py:433: FutureWarning: Default solver will be changed to 'lbfgs' in 0.22. Specify a solver to silence this warning.\n",
      "  FutureWarning)\n",
      "c:\\users\\achin\\appdata\\local\\programs\\python\\python36\\lib\\site-packages\\sklearn\\linear_model\\logistic.py:433: FutureWarning: Default solver will be changed to 'lbfgs' in 0.22. Specify a solver to silence this warning.\n",
      "  FutureWarning)\n",
      "c:\\users\\achin\\appdata\\local\\programs\\python\\python36\\lib\\site-packages\\sklearn\\linear_model\\logistic.py:433: FutureWarning: Default solver will be changed to 'lbfgs' in 0.22. Specify a solver to silence this warning.\n",
      "  FutureWarning)\n",
      "c:\\users\\achin\\appdata\\local\\programs\\python\\python36\\lib\\site-packages\\sklearn\\linear_model\\logistic.py:433: FutureWarning: Default solver will be changed to 'lbfgs' in 0.22. Specify a solver to silence this warning.\n",
      "  FutureWarning)\n",
      "c:\\users\\achin\\appdata\\local\\programs\\python\\python36\\lib\\site-packages\\sklearn\\linear_model\\logistic.py:433: FutureWarning: Default solver will be changed to 'lbfgs' in 0.22. Specify a solver to silence this warning.\n",
      "  FutureWarning)\n",
      "c:\\users\\achin\\appdata\\local\\programs\\python\\python36\\lib\\site-packages\\sklearn\\linear_model\\logistic.py:433: FutureWarning: Default solver will be changed to 'lbfgs' in 0.22. Specify a solver to silence this warning.\n",
      "  FutureWarning)\n",
      "c:\\users\\achin\\appdata\\local\\programs\\python\\python36\\lib\\site-packages\\sklearn\\linear_model\\logistic.py:433: FutureWarning: Default solver will be changed to 'lbfgs' in 0.22. Specify a solver to silence this warning.\n",
      "  FutureWarning)\n",
      "c:\\users\\achin\\appdata\\local\\programs\\python\\python36\\lib\\site-packages\\sklearn\\linear_model\\logistic.py:433: FutureWarning: Default solver will be changed to 'lbfgs' in 0.22. Specify a solver to silence this warning.\n",
      "  FutureWarning)\n",
      "c:\\users\\achin\\appdata\\local\\programs\\python\\python36\\lib\\site-packages\\sklearn\\linear_model\\logistic.py:433: FutureWarning: Default solver will be changed to 'lbfgs' in 0.22. Specify a solver to silence this warning.\n",
      "  FutureWarning)\n",
      "c:\\users\\achin\\appdata\\local\\programs\\python\\python36\\lib\\site-packages\\sklearn\\linear_model\\logistic.py:433: FutureWarning: Default solver will be changed to 'lbfgs' in 0.22. Specify a solver to silence this warning.\n",
      "  FutureWarning)\n",
      "c:\\users\\achin\\appdata\\local\\programs\\python\\python36\\lib\\site-packages\\sklearn\\linear_model\\logistic.py:433: FutureWarning: Default solver will be changed to 'lbfgs' in 0.22. Specify a solver to silence this warning.\n",
      "  FutureWarning)\n",
      "c:\\users\\achin\\appdata\\local\\programs\\python\\python36\\lib\\site-packages\\sklearn\\linear_model\\logistic.py:433: FutureWarning: Default solver will be changed to 'lbfgs' in 0.22. Specify a solver to silence this warning.\n",
      "  FutureWarning)\n",
      "c:\\users\\achin\\appdata\\local\\programs\\python\\python36\\lib\\site-packages\\sklearn\\linear_model\\logistic.py:433: FutureWarning: Default solver will be changed to 'lbfgs' in 0.22. Specify a solver to silence this warning.\n",
      "  FutureWarning)\n",
      "c:\\users\\achin\\appdata\\local\\programs\\python\\python36\\lib\\site-packages\\sklearn\\linear_model\\logistic.py:433: FutureWarning: Default solver will be changed to 'lbfgs' in 0.22. Specify a solver to silence this warning.\n",
      "  FutureWarning)\n",
      "c:\\users\\achin\\appdata\\local\\programs\\python\\python36\\lib\\site-packages\\sklearn\\linear_model\\logistic.py:433: FutureWarning: Default solver will be changed to 'lbfgs' in 0.22. Specify a solver to silence this warning.\n",
      "  FutureWarning)\n",
      "c:\\users\\achin\\appdata\\local\\programs\\python\\python36\\lib\\site-packages\\sklearn\\linear_model\\logistic.py:433: FutureWarning: Default solver will be changed to 'lbfgs' in 0.22. Specify a solver to silence this warning.\n",
      "  FutureWarning)\n",
      "c:\\users\\achin\\appdata\\local\\programs\\python\\python36\\lib\\site-packages\\sklearn\\linear_model\\logistic.py:433: FutureWarning: Default solver will be changed to 'lbfgs' in 0.22. Specify a solver to silence this warning.\n",
      "  FutureWarning)\n",
      "c:\\users\\achin\\appdata\\local\\programs\\python\\python36\\lib\\site-packages\\sklearn\\linear_model\\logistic.py:433: FutureWarning: Default solver will be changed to 'lbfgs' in 0.22. Specify a solver to silence this warning.\n",
      "  FutureWarning)\n",
      "c:\\users\\achin\\appdata\\local\\programs\\python\\python36\\lib\\site-packages\\sklearn\\linear_model\\logistic.py:433: FutureWarning: Default solver will be changed to 'lbfgs' in 0.22. Specify a solver to silence this warning.\n",
      "  FutureWarning)\n",
      "c:\\users\\achin\\appdata\\local\\programs\\python\\python36\\lib\\site-packages\\sklearn\\linear_model\\logistic.py:433: FutureWarning: Default solver will be changed to 'lbfgs' in 0.22. Specify a solver to silence this warning.\n",
      "  FutureWarning)\n",
      "c:\\users\\achin\\appdata\\local\\programs\\python\\python36\\lib\\site-packages\\sklearn\\linear_model\\logistic.py:433: FutureWarning: Default solver will be changed to 'lbfgs' in 0.22. Specify a solver to silence this warning.\n",
      "  FutureWarning)\n",
      "c:\\users\\achin\\appdata\\local\\programs\\python\\python36\\lib\\site-packages\\sklearn\\linear_model\\logistic.py:433: FutureWarning: Default solver will be changed to 'lbfgs' in 0.22. Specify a solver to silence this warning.\n",
      "  FutureWarning)\n",
      "c:\\users\\achin\\appdata\\local\\programs\\python\\python36\\lib\\site-packages\\sklearn\\linear_model\\logistic.py:433: FutureWarning: Default solver will be changed to 'lbfgs' in 0.22. Specify a solver to silence this warning.\n",
      "  FutureWarning)\n",
      "c:\\users\\achin\\appdata\\local\\programs\\python\\python36\\lib\\site-packages\\sklearn\\linear_model\\logistic.py:433: FutureWarning: Default solver will be changed to 'lbfgs' in 0.22. Specify a solver to silence this warning.\n",
      "  FutureWarning)\n",
      "c:\\users\\achin\\appdata\\local\\programs\\python\\python36\\lib\\site-packages\\sklearn\\linear_model\\logistic.py:433: FutureWarning: Default solver will be changed to 'lbfgs' in 0.22. Specify a solver to silence this warning.\n",
      "  FutureWarning)\n",
      "c:\\users\\achin\\appdata\\local\\programs\\python\\python36\\lib\\site-packages\\sklearn\\linear_model\\logistic.py:433: FutureWarning: Default solver will be changed to 'lbfgs' in 0.22. Specify a solver to silence this warning.\n",
      "  FutureWarning)\n"
     ]
    },
    {
     "name": "stderr",
     "output_type": "stream",
     "text": [
      "c:\\users\\achin\\appdata\\local\\programs\\python\\python36\\lib\\site-packages\\sklearn\\linear_model\\logistic.py:433: FutureWarning: Default solver will be changed to 'lbfgs' in 0.22. Specify a solver to silence this warning.\n",
      "  FutureWarning)\n"
     ]
    },
    {
     "data": {
      "text/plain": [
       "GridSearchCV(cv=5, error_score='raise-deprecating',\n",
       "       estimator=LogisticRegression(C=1.0, class_weight=None, dual=False, fit_intercept=True,\n",
       "          intercept_scaling=1, max_iter=100, multi_class='warn',\n",
       "          n_jobs=None, penalty='l2', random_state=None, solver='warn',\n",
       "          tol=0.0001, verbose=0, warm_start=False),\n",
       "       fit_params=None, iid='warn', n_jobs=None,\n",
       "       param_grid={'C': [0.001, 0.01, 0.1, 1, 10, 100, 1000]},\n",
       "       pre_dispatch='2*n_jobs', refit=True, return_train_score='warn',\n",
       "       scoring='recall', verbose=0)"
      ]
     },
     "execution_count": 42,
     "metadata": {},
     "output_type": "execute_result"
    }
   ],
   "source": [
    "grid_logistic.fit(X_clf_train,y_clf_train)"
   ]
  },
  {
   "cell_type": "code",
   "execution_count": 43,
   "metadata": {},
   "outputs": [],
   "source": [
    "from sklearn.metrics import precision_score,confusion_matrix,precision_recall_curve"
   ]
  },
  {
   "cell_type": "code",
   "execution_count": 44,
   "metadata": {},
   "outputs": [],
   "source": [
    "X_scaled = mmsc.transform(X)\n",
    "ylogistic_clf_pred = grid_logistic.predict(X_scaled)"
   ]
  },
  {
   "cell_type": "code",
   "execution_count": 45,
   "metadata": {},
   "outputs": [],
   "source": [
    "columns=['Best CV Recall Score','Best Params','Recall Score on train set','Recall Score on test set','Recall score on full data']"
   ]
  },
  {
   "cell_type": "code",
   "execution_count": 46,
   "metadata": {},
   "outputs": [
    {
     "data": {
      "text/html": [
       "<div>\n",
       "<style scoped>\n",
       "    .dataframe tbody tr th:only-of-type {\n",
       "        vertical-align: middle;\n",
       "    }\n",
       "\n",
       "    .dataframe tbody tr th {\n",
       "        vertical-align: top;\n",
       "    }\n",
       "\n",
       "    .dataframe thead th {\n",
       "        text-align: right;\n",
       "    }\n",
       "</style>\n",
       "<table border=\"1\" class=\"dataframe\">\n",
       "  <thead>\n",
       "    <tr style=\"text-align: right;\">\n",
       "      <th></th>\n",
       "      <th>Best CV Recall Score</th>\n",
       "      <th>Best Params</th>\n",
       "      <th>Recall Score on train set</th>\n",
       "      <th>Recall Score on test set</th>\n",
       "      <th>Recall score on full data</th>\n",
       "    </tr>\n",
       "  </thead>\n",
       "  <tbody>\n",
       "    <tr>\n",
       "      <th>0</th>\n",
       "      <td>0.117724</td>\n",
       "      <td>[((C), (1000))]</td>\n",
       "      <td>0.132353</td>\n",
       "      <td>0.111111</td>\n",
       "      <td>0.436364</td>\n",
       "    </tr>\n",
       "  </tbody>\n",
       "</table>\n",
       "</div>"
      ],
      "text/plain": [
       "   Best CV Recall Score      Best Params  Recall Score on train set  \\\n",
       "0              0.117724  [((C), (1000))]                   0.132353   \n",
       "\n",
       "   Recall Score on test set  Recall score on full data  \n",
       "0                  0.111111                   0.436364  "
      ]
     },
     "execution_count": 46,
     "metadata": {},
     "output_type": "execute_result"
    }
   ],
   "source": [
    "logistic_scores=[[grid_logistic.best_score_,[(grid_logistic.best_params_.keys(),grid_logistic.best_params_.values())],grid_logistic.score(X_clf_train,y_clf_train),grid_logistic.score(X_clf_test,y_clf_test),precision_score(y_clf,ylogistic_clf_pred)]]\n",
    "pd.DataFrame(logistic_scores,columns=columns)"
   ]
  },
  {
   "cell_type": "code",
   "execution_count": 47,
   "metadata": {},
   "outputs": [
    {
     "name": "stdout",
     "output_type": "stream",
     "text": [
      "[[16114    31]\n",
      " [  166    24]]\n"
     ]
    }
   ],
   "source": [
    "print(confusion_matrix(y_clf,ylogistic_clf_pred))"
   ]
  },
  {
   "cell_type": "markdown",
   "metadata": {},
   "source": [
    "## KNN classification"
   ]
  },
  {
   "cell_type": "code",
   "execution_count": 48,
   "metadata": {},
   "outputs": [],
   "source": [
    "from sklearn.neighbors import KNeighborsClassifier        "
   ]
  },
  {
   "cell_type": "code",
   "execution_count": 49,
   "metadata": {},
   "outputs": [],
   "source": [
    "params = {'n_neighbors':np.arange(19,26,2)}"
   ]
  },
  {
   "cell_type": "code",
   "execution_count": 52,
   "metadata": {},
   "outputs": [],
   "source": [
    "grid_knn = GridSearchCV(KNeighborsClassifier(),param_grid=params,return_train_score=True,scoring='recall')"
   ]
  },
  {
   "cell_type": "code",
   "execution_count": 53,
   "metadata": {},
   "outputs": [
    {
     "name": "stderr",
     "output_type": "stream",
     "text": [
      "c:\\users\\achin\\appdata\\local\\programs\\python\\python36\\lib\\site-packages\\sklearn\\model_selection\\_split.py:2053: FutureWarning: You should specify a value for 'cv' instead of relying on the default value. The default value will change from 3 to 5 in version 0.22.\n",
      "  warnings.warn(CV_WARNING, FutureWarning)\n"
     ]
    },
    {
     "data": {
      "text/plain": [
       "GridSearchCV(cv='warn', error_score='raise-deprecating',\n",
       "       estimator=KNeighborsClassifier(algorithm='auto', leaf_size=30, metric='minkowski',\n",
       "           metric_params=None, n_jobs=None, n_neighbors=5, p=2,\n",
       "           weights='uniform'),\n",
       "       fit_params=None, iid='warn', n_jobs=None,\n",
       "       param_grid={'n_neighbors': array([19, 21, 23, 25])},\n",
       "       pre_dispatch='2*n_jobs', refit=True, return_train_score=True,\n",
       "       scoring='recall', verbose=0)"
      ]
     },
     "execution_count": 53,
     "metadata": {},
     "output_type": "execute_result"
    }
   ],
   "source": [
    "grid_knn.fit(X_clf_train,y_clf_train)"
   ]
  },
  {
   "cell_type": "code",
   "execution_count": 54,
   "metadata": {},
   "outputs": [],
   "source": [
    "yknn_clf_pred= grid_knn.predict(X_scaled)"
   ]
  },
  {
   "cell_type": "code",
   "execution_count": 55,
   "metadata": {},
   "outputs": [
    {
     "data": {
      "text/html": [
       "<div>\n",
       "<style scoped>\n",
       "    .dataframe tbody tr th:only-of-type {\n",
       "        vertical-align: middle;\n",
       "    }\n",
       "\n",
       "    .dataframe tbody tr th {\n",
       "        vertical-align: top;\n",
       "    }\n",
       "\n",
       "    .dataframe thead th {\n",
       "        text-align: right;\n",
       "    }\n",
       "</style>\n",
       "<table border=\"1\" class=\"dataframe\">\n",
       "  <thead>\n",
       "    <tr style=\"text-align: right;\">\n",
       "      <th></th>\n",
       "      <th>Best CV Recall Score</th>\n",
       "      <th>Best Params</th>\n",
       "      <th>Recall Score on train set</th>\n",
       "      <th>Recall Score on test set</th>\n",
       "      <th>Recall score on full data</th>\n",
       "    </tr>\n",
       "  </thead>\n",
       "  <tbody>\n",
       "    <tr>\n",
       "      <th>0</th>\n",
       "      <td>0.117712</td>\n",
       "      <td>[((n_neighbors), (19))]</td>\n",
       "      <td>0.176471</td>\n",
       "      <td>0.092593</td>\n",
       "      <td>0.537037</td>\n",
       "    </tr>\n",
       "  </tbody>\n",
       "</table>\n",
       "</div>"
      ],
      "text/plain": [
       "   Best CV Recall Score              Best Params  Recall Score on train set  \\\n",
       "0              0.117712  [((n_neighbors), (19))]                   0.176471   \n",
       "\n",
       "   Recall Score on test set  Recall score on full data  \n",
       "0                  0.092593                   0.537037  "
      ]
     },
     "execution_count": 55,
     "metadata": {},
     "output_type": "execute_result"
    }
   ],
   "source": [
    "knn_scores=[[grid_knn.best_score_,[(grid_knn.best_params_.keys(),grid_knn.best_params_.values())],grid_knn.score(X_clf_train,y_clf_train),grid_knn.score(X_clf_test,y_clf_test),precision_score(y_clf,yknn_clf_pred)]]\n",
    "pd.DataFrame(knn_scores,columns=columns)"
   ]
  },
  {
   "cell_type": "code",
   "execution_count": 56,
   "metadata": {},
   "outputs": [
    {
     "name": "stdout",
     "output_type": "stream",
     "text": [
      "[[16120    25]\n",
      " [  161    29]]\n"
     ]
    }
   ],
   "source": [
    "print(confusion_matrix(y_clf,yknn_clf_pred))"
   ]
  },
  {
   "cell_type": "markdown",
   "metadata": {},
   "source": [
    "# SVM Classification"
   ]
  },
  {
   "cell_type": "code",
   "execution_count": 57,
   "metadata": {},
   "outputs": [],
   "source": [
    "from sklearn.svm import SVC"
   ]
  },
  {
   "cell_type": "code",
   "execution_count": 60,
   "metadata": {},
   "outputs": [],
   "source": [
    "params = {'C':[0.01,0.1,1,10],'gamma':[0.01,0.1,1,10]}\n",
    "grid_svc = GridSearchCV(SVC(),param_grid=params,return_train_score=True,scoring='recall')"
   ]
  },
  {
   "cell_type": "code",
   "execution_count": 61,
   "metadata": {},
   "outputs": [
    {
     "name": "stderr",
     "output_type": "stream",
     "text": [
      "c:\\users\\achin\\appdata\\local\\programs\\python\\python36\\lib\\site-packages\\sklearn\\model_selection\\_split.py:2053: FutureWarning: You should specify a value for 'cv' instead of relying on the default value. The default value will change from 3 to 5 in version 0.22.\n",
      "  warnings.warn(CV_WARNING, FutureWarning)\n"
     ]
    },
    {
     "data": {
      "text/plain": [
       "GridSearchCV(cv='warn', error_score='raise-deprecating',\n",
       "       estimator=SVC(C=1.0, cache_size=200, class_weight=None, coef0=0.0,\n",
       "  decision_function_shape='ovr', degree=3, gamma='auto_deprecated',\n",
       "  kernel='rbf', max_iter=-1, probability=False, random_state=None,\n",
       "  shrinking=True, tol=0.001, verbose=False),\n",
       "       fit_params=None, iid='warn', n_jobs=None,\n",
       "       param_grid={'C': [0.01, 0.1, 1, 10], 'gamma': [0.01, 0.1, 1, 10]},\n",
       "       pre_dispatch='2*n_jobs', refit=True, return_train_score=True,\n",
       "       scoring='recall', verbose=0)"
      ]
     },
     "execution_count": 61,
     "metadata": {},
     "output_type": "execute_result"
    }
   ],
   "source": [
    "grid_svc.fit(X_clf_train,y_clf_train)"
   ]
  },
  {
   "cell_type": "code",
   "execution_count": 62,
   "metadata": {},
   "outputs": [],
   "source": [
    "ysvc_clf_pred = grid_svc.predict(X_scaled)"
   ]
  },
  {
   "cell_type": "code",
   "execution_count": 63,
   "metadata": {},
   "outputs": [
    {
     "data": {
      "text/html": [
       "<div>\n",
       "<style scoped>\n",
       "    .dataframe tbody tr th:only-of-type {\n",
       "        vertical-align: middle;\n",
       "    }\n",
       "\n",
       "    .dataframe tbody tr th {\n",
       "        vertical-align: top;\n",
       "    }\n",
       "\n",
       "    .dataframe thead th {\n",
       "        text-align: right;\n",
       "    }\n",
       "</style>\n",
       "<table border=\"1\" class=\"dataframe\">\n",
       "  <thead>\n",
       "    <tr style=\"text-align: right;\">\n",
       "      <th></th>\n",
       "      <th>Best CV Recall Score</th>\n",
       "      <th>Best Params</th>\n",
       "      <th>Recall Score on train set</th>\n",
       "      <th>Recall Score on test set</th>\n",
       "      <th>Recall score on full data</th>\n",
       "    </tr>\n",
       "  </thead>\n",
       "  <tbody>\n",
       "    <tr>\n",
       "      <th>0</th>\n",
       "      <td>0.154428</td>\n",
       "      <td>[((C, gamma), (10, 10))]</td>\n",
       "      <td>0.441176</td>\n",
       "      <td>0.166667</td>\n",
       "      <td>0.69697</td>\n",
       "    </tr>\n",
       "  </tbody>\n",
       "</table>\n",
       "</div>"
      ],
      "text/plain": [
       "   Best CV Recall Score               Best Params  Recall Score on train set  \\\n",
       "0              0.154428  [((C, gamma), (10, 10))]                   0.441176   \n",
       "\n",
       "   Recall Score on test set  Recall score on full data  \n",
       "0                  0.166667                    0.69697  "
      ]
     },
     "execution_count": 63,
     "metadata": {},
     "output_type": "execute_result"
    }
   ],
   "source": [
    "svc_scores=[[grid_svc.best_score_,[(grid_svc.best_params_.keys(),grid_svc.best_params_.values())],grid_svc.score(X_clf_train,y_clf_train),grid_svc.score(X_clf_test,y_clf_test),precision_score(y_clf,ysvc_clf_pred)]]\n",
    "pd.DataFrame(svc_scores,columns=columns)"
   ]
  },
  {
   "cell_type": "code",
   "execution_count": 64,
   "metadata": {},
   "outputs": [
    {
     "name": "stdout",
     "output_type": "stream",
     "text": [
      "[[16115    30]\n",
      " [  121    69]]\n"
     ]
    }
   ],
   "source": [
    "print(confusion_matrix(y_clf,ysvc_clf_pred))"
   ]
  },
  {
   "cell_type": "code",
   "execution_count": 65,
   "metadata": {},
   "outputs": [
    {
     "data": {
      "text/html": [
       "<div>\n",
       "<style scoped>\n",
       "    .dataframe tbody tr th:only-of-type {\n",
       "        vertical-align: middle;\n",
       "    }\n",
       "\n",
       "    .dataframe tbody tr th {\n",
       "        vertical-align: top;\n",
       "    }\n",
       "\n",
       "    .dataframe thead th {\n",
       "        text-align: right;\n",
       "    }\n",
       "</style>\n",
       "<table border=\"1\" class=\"dataframe\">\n",
       "  <thead>\n",
       "    <tr style=\"text-align: right;\">\n",
       "      <th></th>\n",
       "      <th>Best CV Recall Score</th>\n",
       "      <th>Best Params</th>\n",
       "      <th>Recall Score on train set</th>\n",
       "      <th>Recall Score on test set</th>\n",
       "      <th>Recall score on full data</th>\n",
       "    </tr>\n",
       "  </thead>\n",
       "  <tbody>\n",
       "    <tr>\n",
       "      <th>Logistic Regression</th>\n",
       "      <td>0.117724</td>\n",
       "      <td>[((C), (1000))]</td>\n",
       "      <td>0.132353</td>\n",
       "      <td>0.111111</td>\n",
       "      <td>0.436364</td>\n",
       "    </tr>\n",
       "    <tr>\n",
       "      <th>KNN Classification</th>\n",
       "      <td>0.117712</td>\n",
       "      <td>[((n_neighbors), (19))]</td>\n",
       "      <td>0.176471</td>\n",
       "      <td>0.092593</td>\n",
       "      <td>0.537037</td>\n",
       "    </tr>\n",
       "    <tr>\n",
       "      <th>SVM Classification</th>\n",
       "      <td>0.154428</td>\n",
       "      <td>[((C, gamma), (10, 10))]</td>\n",
       "      <td>0.441176</td>\n",
       "      <td>0.166667</td>\n",
       "      <td>0.696970</td>\n",
       "    </tr>\n",
       "  </tbody>\n",
       "</table>\n",
       "</div>"
      ],
      "text/plain": [
       "                     Best CV Recall Score               Best Params  \\\n",
       "Logistic Regression              0.117724           [((C), (1000))]   \n",
       "KNN Classification               0.117712   [((n_neighbors), (19))]   \n",
       "SVM Classification               0.154428  [((C, gamma), (10, 10))]   \n",
       "\n",
       "                     Recall Score on train set  Recall Score on test set  \\\n",
       "Logistic Regression                   0.132353                  0.111111   \n",
       "KNN Classification                    0.176471                  0.092593   \n",
       "SVM Classification                    0.441176                  0.166667   \n",
       "\n",
       "                     Recall score on full data  \n",
       "Logistic Regression                   0.436364  \n",
       "KNN Classification                    0.537037  \n",
       "SVM Classification                    0.696970  "
      ]
     },
     "execution_count": 65,
     "metadata": {},
     "output_type": "execute_result"
    }
   ],
   "source": [
    "final_scores=pd.DataFrame(logistic_scores+knn_scores+svc_scores,columns=columns,index = ['Logistic Regression','KNN Classification','SVM Classification'])\n",
    "final_scores"
   ]
  },
  {
   "cell_type": "markdown",
   "metadata": {},
   "source": [
    "# Using Ensemble of the above three classification models with their best parameters for better precision"
   ]
  },
  {
   "cell_type": "code",
   "execution_count": 66,
   "metadata": {},
   "outputs": [],
   "source": [
    "from sklearn.ensemble import VotingClassifier\n",
    "ens_logistic = LogisticRegression(C=1000)\n",
    "ens_knn = KNeighborsClassifier(n_neighbors=19)\n",
    "ens_svc = SVC(C=10,gamma=10)\n",
    "voting_clf = VotingClassifier(estimators=[('logistic',ens_logistic),('knn',ens_knn),('svc',ens_svc)],voting = 'hard')"
   ]
  },
  {
   "cell_type": "code",
   "execution_count": 67,
   "metadata": {},
   "outputs": [
    {
     "name": "stderr",
     "output_type": "stream",
     "text": [
      "c:\\users\\achin\\appdata\\local\\programs\\python\\python36\\lib\\site-packages\\sklearn\\linear_model\\logistic.py:433: FutureWarning: Default solver will be changed to 'lbfgs' in 0.22. Specify a solver to silence this warning.\n",
      "  FutureWarning)\n"
     ]
    },
    {
     "data": {
      "text/plain": [
       "VotingClassifier(estimators=[('logistic', LogisticRegression(C=1000, class_weight=None, dual=False, fit_intercept=True,\n",
       "          intercept_scaling=1, max_iter=100, multi_class='warn',\n",
       "          n_jobs=None, penalty='l2', random_state=None, solver='warn',\n",
       "          tol=0.0001, verbose=0, warm_start=False)), ('knn', ...,\n",
       "  max_iter=-1, probability=False, random_state=None, shrinking=True,\n",
       "  tol=0.001, verbose=False))],\n",
       "         flatten_transform=None, n_jobs=None, voting='hard', weights=None)"
      ]
     },
     "execution_count": 67,
     "metadata": {},
     "output_type": "execute_result"
    }
   ],
   "source": [
    "voting_clf.fit(X_clf_train,y_clf_train)"
   ]
  },
  {
   "cell_type": "code",
   "execution_count": 68,
   "metadata": {},
   "outputs": [],
   "source": [
    "yensemble_clf_pred = voting_clf.predict(X_scaled)"
   ]
  },
  {
   "cell_type": "code",
   "execution_count": 69,
   "metadata": {},
   "outputs": [
    {
     "data": {
      "text/html": [
       "<div>\n",
       "<style scoped>\n",
       "    .dataframe tbody tr th:only-of-type {\n",
       "        vertical-align: middle;\n",
       "    }\n",
       "\n",
       "    .dataframe tbody tr th {\n",
       "        vertical-align: top;\n",
       "    }\n",
       "\n",
       "    .dataframe thead th {\n",
       "        text-align: right;\n",
       "    }\n",
       "</style>\n",
       "<table border=\"1\" class=\"dataframe\">\n",
       "  <thead>\n",
       "    <tr style=\"text-align: right;\">\n",
       "      <th></th>\n",
       "      <th>Best CV Recall Score</th>\n",
       "      <th>Best Params</th>\n",
       "      <th>Recall Score on train set</th>\n",
       "      <th>Recall Score on test set</th>\n",
       "      <th>Recall score on full data</th>\n",
       "    </tr>\n",
       "  </thead>\n",
       "  <tbody>\n",
       "    <tr>\n",
       "      <th>0</th>\n",
       "      <td>NaN</td>\n",
       "      <td>NaN</td>\n",
       "      <td>0.714286</td>\n",
       "      <td>0.461538</td>\n",
       "      <td>0.654545</td>\n",
       "    </tr>\n",
       "  </tbody>\n",
       "</table>\n",
       "</div>"
      ],
      "text/plain": [
       "   Best CV Recall Score  Best Params  Recall Score on train set  \\\n",
       "0                   NaN          NaN                   0.714286   \n",
       "\n",
       "   Recall Score on test set  Recall score on full data  \n",
       "0                  0.461538                   0.654545  "
      ]
     },
     "execution_count": 69,
     "metadata": {},
     "output_type": "execute_result"
    }
   ],
   "source": [
    "voting_scores = [[np.nan,np.nan,precision_score(y_clf_train,voting_clf.predict(X_clf_train)),precision_score(y_clf_test,voting_clf.predict(X_clf_test)),precision_score(y_clf,yensemble_clf_pred)]]\n",
    "pd.DataFrame(voting_scores,columns=columns)"
   ]
  },
  {
   "cell_type": "code",
   "execution_count": 70,
   "metadata": {},
   "outputs": [
    {
     "data": {
      "text/html": [
       "<div>\n",
       "<style scoped>\n",
       "    .dataframe tbody tr th:only-of-type {\n",
       "        vertical-align: middle;\n",
       "    }\n",
       "\n",
       "    .dataframe tbody tr th {\n",
       "        vertical-align: top;\n",
       "    }\n",
       "\n",
       "    .dataframe thead th {\n",
       "        text-align: right;\n",
       "    }\n",
       "</style>\n",
       "<table border=\"1\" class=\"dataframe\">\n",
       "  <thead>\n",
       "    <tr style=\"text-align: right;\">\n",
       "      <th></th>\n",
       "      <th>Best CV Recall Score</th>\n",
       "      <th>Best Params</th>\n",
       "      <th>Recall Score on train set</th>\n",
       "      <th>Recall Score on test set</th>\n",
       "      <th>Recall score on full data</th>\n",
       "    </tr>\n",
       "  </thead>\n",
       "  <tbody>\n",
       "    <tr>\n",
       "      <th>Logistic Regression</th>\n",
       "      <td>0.117724</td>\n",
       "      <td>[((C), (1000))]</td>\n",
       "      <td>0.132353</td>\n",
       "      <td>0.111111</td>\n",
       "      <td>0.436364</td>\n",
       "    </tr>\n",
       "    <tr>\n",
       "      <th>KNN Classification</th>\n",
       "      <td>0.117712</td>\n",
       "      <td>[((n_neighbors), (19))]</td>\n",
       "      <td>0.176471</td>\n",
       "      <td>0.092593</td>\n",
       "      <td>0.537037</td>\n",
       "    </tr>\n",
       "    <tr>\n",
       "      <th>SVM Classification</th>\n",
       "      <td>0.154428</td>\n",
       "      <td>[((C, gamma), (10, 10))]</td>\n",
       "      <td>0.441176</td>\n",
       "      <td>0.166667</td>\n",
       "      <td>0.696970</td>\n",
       "    </tr>\n",
       "    <tr>\n",
       "      <th>Ensemble of the three</th>\n",
       "      <td>NaN</td>\n",
       "      <td>NaN</td>\n",
       "      <td>0.714286</td>\n",
       "      <td>0.461538</td>\n",
       "      <td>0.654545</td>\n",
       "    </tr>\n",
       "  </tbody>\n",
       "</table>\n",
       "</div>"
      ],
      "text/plain": [
       "                       Best CV Recall Score               Best Params  \\\n",
       "Logistic Regression                0.117724           [((C), (1000))]   \n",
       "KNN Classification                 0.117712   [((n_neighbors), (19))]   \n",
       "SVM Classification                 0.154428  [((C, gamma), (10, 10))]   \n",
       "Ensemble of the three                   NaN                       NaN   \n",
       "\n",
       "                       Recall Score on train set  Recall Score on test set  \\\n",
       "Logistic Regression                     0.132353                  0.111111   \n",
       "KNN Classification                      0.176471                  0.092593   \n",
       "SVM Classification                      0.441176                  0.166667   \n",
       "Ensemble of the three                   0.714286                  0.461538   \n",
       "\n",
       "                       Recall score on full data  \n",
       "Logistic Regression                     0.436364  \n",
       "KNN Classification                      0.537037  \n",
       "SVM Classification                      0.696970  \n",
       "Ensemble of the three                   0.654545  "
      ]
     },
     "execution_count": 70,
     "metadata": {},
     "output_type": "execute_result"
    }
   ],
   "source": [
    "final_scores=pd.DataFrame(logistic_scores+knn_scores+svc_scores+voting_scores,columns=columns,index = ['Logistic Regression','KNN Classification','SVM Classification','Ensemble of the three'])\n",
    "final_scores"
   ]
  },
  {
   "cell_type": "markdown",
   "metadata": {},
   "source": [
    "# Score from Ensemble is better than other models"
   ]
  },
  {
   "cell_type": "code",
   "execution_count": 71,
   "metadata": {},
   "outputs": [],
   "source": [
    "df['pseudo_prediction']=yensemble_clf_pred"
   ]
  },
  {
   "cell_type": "code",
   "execution_count": 72,
   "metadata": {},
   "outputs": [
    {
     "data": {
      "text/html": [
       "<div>\n",
       "<style scoped>\n",
       "    .dataframe tbody tr th:only-of-type {\n",
       "        vertical-align: middle;\n",
       "    }\n",
       "\n",
       "    .dataframe tbody tr th {\n",
       "        vertical-align: top;\n",
       "    }\n",
       "\n",
       "    .dataframe thead th {\n",
       "        text-align: right;\n",
       "    }\n",
       "</style>\n",
       "<table border=\"1\" class=\"dataframe\">\n",
       "  <thead>\n",
       "    <tr style=\"text-align: right;\">\n",
       "      <th></th>\n",
       "      <th>isMobile</th>\n",
       "      <th>hasSocialSourceReferral</th>\n",
       "      <th>hitNumber</th>\n",
       "      <th>localProductPrice</th>\n",
       "      <th>visitNumber</th>\n",
       "      <th>totals_hits</th>\n",
       "      <th>totals_pageviews</th>\n",
       "      <th>totals_sessionQualityDim</th>\n",
       "      <th>totals_timeOnSite</th>\n",
       "      <th>totals_transactionRevenue</th>\n",
       "      <th>...</th>\n",
       "      <th>trafficSource_dfa</th>\n",
       "      <th>trafficSource_facebook</th>\n",
       "      <th>trafficSource_google</th>\n",
       "      <th>trafficSource_qiita.com</th>\n",
       "      <th>trafficSource_quora.com</th>\n",
       "      <th>trafficSource_reddit.com</th>\n",
       "      <th>trafficSource_siliconvalley.about.com</th>\n",
       "      <th>trafficSource_yahoo</th>\n",
       "      <th>trafficSource_youtube</th>\n",
       "      <th>pseudo_prediction</th>\n",
       "    </tr>\n",
       "  </thead>\n",
       "  <tbody>\n",
       "    <tr>\n",
       "      <th>0</th>\n",
       "      <td>0</td>\n",
       "      <td>0.0</td>\n",
       "      <td>1</td>\n",
       "      <td>14.240000</td>\n",
       "      <td>1</td>\n",
       "      <td>1</td>\n",
       "      <td>1.0</td>\n",
       "      <td>1.0</td>\n",
       "      <td>0.0</td>\n",
       "      <td>0.0</td>\n",
       "      <td>...</td>\n",
       "      <td>0</td>\n",
       "      <td>0</td>\n",
       "      <td>1</td>\n",
       "      <td>0</td>\n",
       "      <td>0</td>\n",
       "      <td>0</td>\n",
       "      <td>0</td>\n",
       "      <td>0</td>\n",
       "      <td>0</td>\n",
       "      <td>0</td>\n",
       "    </tr>\n",
       "    <tr>\n",
       "      <th>1</th>\n",
       "      <td>0</td>\n",
       "      <td>0.0</td>\n",
       "      <td>2</td>\n",
       "      <td>17.790000</td>\n",
       "      <td>6</td>\n",
       "      <td>2</td>\n",
       "      <td>2.0</td>\n",
       "      <td>2.0</td>\n",
       "      <td>28.0</td>\n",
       "      <td>0.0</td>\n",
       "      <td>...</td>\n",
       "      <td>0</td>\n",
       "      <td>0</td>\n",
       "      <td>1</td>\n",
       "      <td>0</td>\n",
       "      <td>0</td>\n",
       "      <td>0</td>\n",
       "      <td>0</td>\n",
       "      <td>0</td>\n",
       "      <td>0</td>\n",
       "      <td>0</td>\n",
       "    </tr>\n",
       "    <tr>\n",
       "      <th>2</th>\n",
       "      <td>1</td>\n",
       "      <td>0.0</td>\n",
       "      <td>2</td>\n",
       "      <td>19.418571</td>\n",
       "      <td>1</td>\n",
       "      <td>2</td>\n",
       "      <td>2.0</td>\n",
       "      <td>1.0</td>\n",
       "      <td>38.0</td>\n",
       "      <td>0.0</td>\n",
       "      <td>...</td>\n",
       "      <td>0</td>\n",
       "      <td>0</td>\n",
       "      <td>0</td>\n",
       "      <td>0</td>\n",
       "      <td>0</td>\n",
       "      <td>0</td>\n",
       "      <td>0</td>\n",
       "      <td>0</td>\n",
       "      <td>0</td>\n",
       "      <td>0</td>\n",
       "    </tr>\n",
       "    <tr>\n",
       "      <th>3</th>\n",
       "      <td>0</td>\n",
       "      <td>0.0</td>\n",
       "      <td>2</td>\n",
       "      <td>20.262727</td>\n",
       "      <td>1</td>\n",
       "      <td>2</td>\n",
       "      <td>2.0</td>\n",
       "      <td>1.0</td>\n",
       "      <td>1.0</td>\n",
       "      <td>0.0</td>\n",
       "      <td>...</td>\n",
       "      <td>0</td>\n",
       "      <td>0</td>\n",
       "      <td>1</td>\n",
       "      <td>0</td>\n",
       "      <td>0</td>\n",
       "      <td>0</td>\n",
       "      <td>0</td>\n",
       "      <td>0</td>\n",
       "      <td>0</td>\n",
       "      <td>0</td>\n",
       "    </tr>\n",
       "    <tr>\n",
       "      <th>4</th>\n",
       "      <td>0</td>\n",
       "      <td>0.0</td>\n",
       "      <td>2</td>\n",
       "      <td>0.000000</td>\n",
       "      <td>1</td>\n",
       "      <td>2</td>\n",
       "      <td>2.0</td>\n",
       "      <td>1.0</td>\n",
       "      <td>52.0</td>\n",
       "      <td>0.0</td>\n",
       "      <td>...</td>\n",
       "      <td>0</td>\n",
       "      <td>0</td>\n",
       "      <td>1</td>\n",
       "      <td>0</td>\n",
       "      <td>0</td>\n",
       "      <td>0</td>\n",
       "      <td>0</td>\n",
       "      <td>0</td>\n",
       "      <td>0</td>\n",
       "      <td>0</td>\n",
       "    </tr>\n",
       "  </tbody>\n",
       "</table>\n",
       "<p>5 rows × 62 columns</p>\n",
       "</div>"
      ],
      "text/plain": [
       "   isMobile  hasSocialSourceReferral  hitNumber  localProductPrice  \\\n",
       "0         0                      0.0          1          14.240000   \n",
       "1         0                      0.0          2          17.790000   \n",
       "2         1                      0.0          2          19.418571   \n",
       "3         0                      0.0          2          20.262727   \n",
       "4         0                      0.0          2           0.000000   \n",
       "\n",
       "   visitNumber  totals_hits  totals_pageviews  totals_sessionQualityDim  \\\n",
       "0            1            1               1.0                       1.0   \n",
       "1            6            2               2.0                       2.0   \n",
       "2            1            2               2.0                       1.0   \n",
       "3            1            2               2.0                       1.0   \n",
       "4            1            2               2.0                       1.0   \n",
       "\n",
       "   totals_timeOnSite  totals_transactionRevenue        ...          \\\n",
       "0                0.0                        0.0        ...           \n",
       "1               28.0                        0.0        ...           \n",
       "2               38.0                        0.0        ...           \n",
       "3                1.0                        0.0        ...           \n",
       "4               52.0                        0.0        ...           \n",
       "\n",
       "   trafficSource_dfa  trafficSource_facebook  trafficSource_google  \\\n",
       "0                  0                       0                     1   \n",
       "1                  0                       0                     1   \n",
       "2                  0                       0                     0   \n",
       "3                  0                       0                     1   \n",
       "4                  0                       0                     1   \n",
       "\n",
       "   trafficSource_qiita.com  trafficSource_quora.com  trafficSource_reddit.com  \\\n",
       "0                        0                        0                         0   \n",
       "1                        0                        0                         0   \n",
       "2                        0                        0                         0   \n",
       "3                        0                        0                         0   \n",
       "4                        0                        0                         0   \n",
       "\n",
       "   trafficSource_siliconvalley.about.com  trafficSource_yahoo  \\\n",
       "0                                      0                    0   \n",
       "1                                      0                    0   \n",
       "2                                      0                    0   \n",
       "3                                      0                    0   \n",
       "4                                      0                    0   \n",
       "\n",
       "   trafficSource_youtube  pseudo_prediction  \n",
       "0                      0                  0  \n",
       "1                      0                  0  \n",
       "2                      0                  0  \n",
       "3                      0                  0  \n",
       "4                      0                  0  \n",
       "\n",
       "[5 rows x 62 columns]"
      ]
     },
     "execution_count": 72,
     "metadata": {},
     "output_type": "execute_result"
    }
   ],
   "source": [
    "df.head()"
   ]
  },
  {
   "cell_type": "code",
   "execution_count": 73,
   "metadata": {},
   "outputs": [],
   "source": [
    "df_reg = df[df['pseudo_prediction']==1]"
   ]
  },
  {
   "cell_type": "code",
   "execution_count": 74,
   "metadata": {},
   "outputs": [
    {
     "data": {
      "text/html": [
       "<div>\n",
       "<style scoped>\n",
       "    .dataframe tbody tr th:only-of-type {\n",
       "        vertical-align: middle;\n",
       "    }\n",
       "\n",
       "    .dataframe tbody tr th {\n",
       "        vertical-align: top;\n",
       "    }\n",
       "\n",
       "    .dataframe thead th {\n",
       "        text-align: right;\n",
       "    }\n",
       "</style>\n",
       "<table border=\"1\" class=\"dataframe\">\n",
       "  <thead>\n",
       "    <tr style=\"text-align: right;\">\n",
       "      <th></th>\n",
       "      <th>totals_transactionRevenue</th>\n",
       "      <th>pseudo_prediction</th>\n",
       "    </tr>\n",
       "  </thead>\n",
       "  <tbody>\n",
       "    <tr>\n",
       "      <th>648</th>\n",
       "      <td>9.12</td>\n",
       "      <td>1</td>\n",
       "    </tr>\n",
       "    <tr>\n",
       "      <th>3900</th>\n",
       "      <td>339.03</td>\n",
       "      <td>1</td>\n",
       "    </tr>\n",
       "    <tr>\n",
       "      <th>3905</th>\n",
       "      <td>0.00</td>\n",
       "      <td>1</td>\n",
       "    </tr>\n",
       "    <tr>\n",
       "      <th>3917</th>\n",
       "      <td>305.47</td>\n",
       "      <td>1</td>\n",
       "    </tr>\n",
       "    <tr>\n",
       "      <th>3930</th>\n",
       "      <td>90.85</td>\n",
       "      <td>1</td>\n",
       "    </tr>\n",
       "    <tr>\n",
       "      <th>3931</th>\n",
       "      <td>0.00</td>\n",
       "      <td>1</td>\n",
       "    </tr>\n",
       "    <tr>\n",
       "      <th>3933</th>\n",
       "      <td>0.00</td>\n",
       "      <td>1</td>\n",
       "    </tr>\n",
       "    <tr>\n",
       "      <th>3934</th>\n",
       "      <td>0.00</td>\n",
       "      <td>1</td>\n",
       "    </tr>\n",
       "    <tr>\n",
       "      <th>3936</th>\n",
       "      <td>0.00</td>\n",
       "      <td>1</td>\n",
       "    </tr>\n",
       "    <tr>\n",
       "      <th>3940</th>\n",
       "      <td>0.00</td>\n",
       "      <td>1</td>\n",
       "    </tr>\n",
       "    <tr>\n",
       "      <th>3942</th>\n",
       "      <td>10.59</td>\n",
       "      <td>1</td>\n",
       "    </tr>\n",
       "    <tr>\n",
       "      <th>3944</th>\n",
       "      <td>338.97</td>\n",
       "      <td>1</td>\n",
       "    </tr>\n",
       "    <tr>\n",
       "      <th>3947</th>\n",
       "      <td>0.00</td>\n",
       "      <td>1</td>\n",
       "    </tr>\n",
       "    <tr>\n",
       "      <th>3949</th>\n",
       "      <td>0.00</td>\n",
       "      <td>1</td>\n",
       "    </tr>\n",
       "    <tr>\n",
       "      <th>8015</th>\n",
       "      <td>179.16</td>\n",
       "      <td>1</td>\n",
       "    </tr>\n",
       "    <tr>\n",
       "      <th>8018</th>\n",
       "      <td>30.39</td>\n",
       "      <td>1</td>\n",
       "    </tr>\n",
       "    <tr>\n",
       "      <th>8019</th>\n",
       "      <td>259.37</td>\n",
       "      <td>1</td>\n",
       "    </tr>\n",
       "    <tr>\n",
       "      <th>8024</th>\n",
       "      <td>53.56</td>\n",
       "      <td>1</td>\n",
       "    </tr>\n",
       "    <tr>\n",
       "      <th>8026</th>\n",
       "      <td>191.17</td>\n",
       "      <td>1</td>\n",
       "    </tr>\n",
       "    <tr>\n",
       "      <th>8028</th>\n",
       "      <td>0.00</td>\n",
       "      <td>1</td>\n",
       "    </tr>\n",
       "    <tr>\n",
       "      <th>8031</th>\n",
       "      <td>64.70</td>\n",
       "      <td>1</td>\n",
       "    </tr>\n",
       "    <tr>\n",
       "      <th>8037</th>\n",
       "      <td>105.12</td>\n",
       "      <td>1</td>\n",
       "    </tr>\n",
       "    <tr>\n",
       "      <th>8038</th>\n",
       "      <td>0.00</td>\n",
       "      <td>1</td>\n",
       "    </tr>\n",
       "    <tr>\n",
       "      <th>8039</th>\n",
       "      <td>1077.00</td>\n",
       "      <td>1</td>\n",
       "    </tr>\n",
       "    <tr>\n",
       "      <th>10671</th>\n",
       "      <td>33.58</td>\n",
       "      <td>1</td>\n",
       "    </tr>\n",
       "    <tr>\n",
       "      <th>10673</th>\n",
       "      <td>13.59</td>\n",
       "      <td>1</td>\n",
       "    </tr>\n",
       "    <tr>\n",
       "      <th>10678</th>\n",
       "      <td>0.00</td>\n",
       "      <td>1</td>\n",
       "    </tr>\n",
       "    <tr>\n",
       "      <th>10680</th>\n",
       "      <td>0.00</td>\n",
       "      <td>1</td>\n",
       "    </tr>\n",
       "    <tr>\n",
       "      <th>10683</th>\n",
       "      <td>31.49</td>\n",
       "      <td>1</td>\n",
       "    </tr>\n",
       "    <tr>\n",
       "      <th>10686</th>\n",
       "      <td>21.02</td>\n",
       "      <td>1</td>\n",
       "    </tr>\n",
       "    <tr>\n",
       "      <th>10687</th>\n",
       "      <td>335.31</td>\n",
       "      <td>1</td>\n",
       "    </tr>\n",
       "    <tr>\n",
       "      <th>10692</th>\n",
       "      <td>111.16</td>\n",
       "      <td>1</td>\n",
       "    </tr>\n",
       "    <tr>\n",
       "      <th>10693</th>\n",
       "      <td>0.00</td>\n",
       "      <td>1</td>\n",
       "    </tr>\n",
       "    <tr>\n",
       "      <th>10697</th>\n",
       "      <td>173.88</td>\n",
       "      <td>1</td>\n",
       "    </tr>\n",
       "    <tr>\n",
       "      <th>11884</th>\n",
       "      <td>0.00</td>\n",
       "      <td>1</td>\n",
       "    </tr>\n",
       "    <tr>\n",
       "      <th>11886</th>\n",
       "      <td>17.59</td>\n",
       "      <td>1</td>\n",
       "    </tr>\n",
       "    <tr>\n",
       "      <th>11898</th>\n",
       "      <td>139.65</td>\n",
       "      <td>1</td>\n",
       "    </tr>\n",
       "    <tr>\n",
       "      <th>11905</th>\n",
       "      <td>37.96</td>\n",
       "      <td>1</td>\n",
       "    </tr>\n",
       "    <tr>\n",
       "      <th>11906</th>\n",
       "      <td>0.00</td>\n",
       "      <td>1</td>\n",
       "    </tr>\n",
       "    <tr>\n",
       "      <th>11907</th>\n",
       "      <td>0.00</td>\n",
       "      <td>1</td>\n",
       "    </tr>\n",
       "    <tr>\n",
       "      <th>12364</th>\n",
       "      <td>65.95</td>\n",
       "      <td>1</td>\n",
       "    </tr>\n",
       "    <tr>\n",
       "      <th>12768</th>\n",
       "      <td>305.49</td>\n",
       "      <td>1</td>\n",
       "    </tr>\n",
       "    <tr>\n",
       "      <th>12785</th>\n",
       "      <td>0.00</td>\n",
       "      <td>1</td>\n",
       "    </tr>\n",
       "    <tr>\n",
       "      <th>12790</th>\n",
       "      <td>464.80</td>\n",
       "      <td>1</td>\n",
       "    </tr>\n",
       "    <tr>\n",
       "      <th>12791</th>\n",
       "      <td>27.11</td>\n",
       "      <td>1</td>\n",
       "    </tr>\n",
       "    <tr>\n",
       "      <th>12792</th>\n",
       "      <td>397.70</td>\n",
       "      <td>1</td>\n",
       "    </tr>\n",
       "    <tr>\n",
       "      <th>12795</th>\n",
       "      <td>0.00</td>\n",
       "      <td>1</td>\n",
       "    </tr>\n",
       "    <tr>\n",
       "      <th>12796</th>\n",
       "      <td>109.45</td>\n",
       "      <td>1</td>\n",
       "    </tr>\n",
       "    <tr>\n",
       "      <th>12799</th>\n",
       "      <td>84.31</td>\n",
       "      <td>1</td>\n",
       "    </tr>\n",
       "    <tr>\n",
       "      <th>12800</th>\n",
       "      <td>0.00</td>\n",
       "      <td>1</td>\n",
       "    </tr>\n",
       "    <tr>\n",
       "      <th>12801</th>\n",
       "      <td>81.56</td>\n",
       "      <td>1</td>\n",
       "    </tr>\n",
       "    <tr>\n",
       "      <th>12802</th>\n",
       "      <td>108.72</td>\n",
       "      <td>1</td>\n",
       "    </tr>\n",
       "    <tr>\n",
       "      <th>12804</th>\n",
       "      <td>196.42</td>\n",
       "      <td>1</td>\n",
       "    </tr>\n",
       "    <tr>\n",
       "      <th>16182</th>\n",
       "      <td>55.99</td>\n",
       "      <td>1</td>\n",
       "    </tr>\n",
       "    <tr>\n",
       "      <th>16208</th>\n",
       "      <td>14.50</td>\n",
       "      <td>1</td>\n",
       "    </tr>\n",
       "  </tbody>\n",
       "</table>\n",
       "</div>"
      ],
      "text/plain": [
       "       totals_transactionRevenue  pseudo_prediction\n",
       "648                         9.12                  1\n",
       "3900                      339.03                  1\n",
       "3905                        0.00                  1\n",
       "3917                      305.47                  1\n",
       "3930                       90.85                  1\n",
       "3931                        0.00                  1\n",
       "3933                        0.00                  1\n",
       "3934                        0.00                  1\n",
       "3936                        0.00                  1\n",
       "3940                        0.00                  1\n",
       "3942                       10.59                  1\n",
       "3944                      338.97                  1\n",
       "3947                        0.00                  1\n",
       "3949                        0.00                  1\n",
       "8015                      179.16                  1\n",
       "8018                       30.39                  1\n",
       "8019                      259.37                  1\n",
       "8024                       53.56                  1\n",
       "8026                      191.17                  1\n",
       "8028                        0.00                  1\n",
       "8031                       64.70                  1\n",
       "8037                      105.12                  1\n",
       "8038                        0.00                  1\n",
       "8039                     1077.00                  1\n",
       "10671                      33.58                  1\n",
       "10673                      13.59                  1\n",
       "10678                       0.00                  1\n",
       "10680                       0.00                  1\n",
       "10683                      31.49                  1\n",
       "10686                      21.02                  1\n",
       "10687                     335.31                  1\n",
       "10692                     111.16                  1\n",
       "10693                       0.00                  1\n",
       "10697                     173.88                  1\n",
       "11884                       0.00                  1\n",
       "11886                      17.59                  1\n",
       "11898                     139.65                  1\n",
       "11905                      37.96                  1\n",
       "11906                       0.00                  1\n",
       "11907                       0.00                  1\n",
       "12364                      65.95                  1\n",
       "12768                     305.49                  1\n",
       "12785                       0.00                  1\n",
       "12790                     464.80                  1\n",
       "12791                      27.11                  1\n",
       "12792                     397.70                  1\n",
       "12795                       0.00                  1\n",
       "12796                     109.45                  1\n",
       "12799                      84.31                  1\n",
       "12800                       0.00                  1\n",
       "12801                      81.56                  1\n",
       "12802                     108.72                  1\n",
       "12804                     196.42                  1\n",
       "16182                      55.99                  1\n",
       "16208                      14.50                  1"
      ]
     },
     "execution_count": 74,
     "metadata": {},
     "output_type": "execute_result"
    }
   ],
   "source": [
    "df_reg[['totals_transactionRevenue','pseudo_prediction']]"
   ]
  },
  {
   "cell_type": "code",
   "execution_count": 75,
   "metadata": {},
   "outputs": [],
   "source": [
    "X_reg = df_reg.drop(columns=['pseudo_prediction','totals_transactionRevenue'])"
   ]
  },
  {
   "cell_type": "code",
   "execution_count": 76,
   "metadata": {},
   "outputs": [
    {
     "data": {
      "text/plain": [
       "(55, 60)"
      ]
     },
     "execution_count": 76,
     "metadata": {},
     "output_type": "execute_result"
    }
   ],
   "source": [
    "X_reg.shape"
   ]
  },
  {
   "cell_type": "code",
   "execution_count": 77,
   "metadata": {},
   "outputs": [],
   "source": [
    "y_reg = df_reg['totals_transactionRevenue']"
   ]
  },
  {
   "cell_type": "code",
   "execution_count": 78,
   "metadata": {},
   "outputs": [
    {
     "data": {
      "text/plain": [
       "(55,)"
      ]
     },
     "execution_count": 78,
     "metadata": {},
     "output_type": "execute_result"
    }
   ],
   "source": [
    "y_reg.shape"
   ]
  },
  {
   "cell_type": "markdown",
   "metadata": {},
   "source": [
    "# Using SVR to predict revenue where it was predicted to be 1 in the classification"
   ]
  },
  {
   "cell_type": "code",
   "execution_count": 89,
   "metadata": {},
   "outputs": [],
   "source": [
    "from sklearn.preprocessing import StandardScaler\n",
    "sc=StandardScaler()"
   ]
  },
  {
   "cell_type": "code",
   "execution_count": 90,
   "metadata": {},
   "outputs": [
    {
     "name": "stderr",
     "output_type": "stream",
     "text": [
      "c:\\users\\achin\\appdata\\local\\programs\\python\\python36\\lib\\site-packages\\sklearn\\preprocessing\\data.py:625: DataConversionWarning: Data with input dtype int64, float64 were all converted to float64 by StandardScaler.\n",
      "  return self.partial_fit(X, y)\n",
      "c:\\users\\achin\\appdata\\local\\programs\\python\\python36\\lib\\site-packages\\sklearn\\base.py:462: DataConversionWarning: Data with input dtype int64, float64 were all converted to float64 by StandardScaler.\n",
      "  return self.fit(X, **fit_params).transform(X)\n",
      "c:\\users\\achin\\appdata\\local\\programs\\python\\python36\\lib\\site-packages\\ipykernel_launcher.py:3: DataConversionWarning: Data with input dtype int64, float64 were all converted to float64 by StandardScaler.\n",
      "  This is separate from the ipykernel package so we can avoid doing imports until\n"
     ]
    }
   ],
   "source": [
    "Xtrain_reg,Xtest_reg,ytrain_reg,ytest_reg = train_test_split(X_reg,y_reg,random_state=3)\n",
    "Xtrain_reg_scaled = sc.fit_transform(Xtrain_reg)\n",
    "Xtest_reg_scaled = sc.transform(Xtest_reg)\n"
   ]
  },
  {
   "cell_type": "code",
   "execution_count": 91,
   "metadata": {},
   "outputs": [],
   "source": [
    "from sklearn.svm import SVR"
   ]
  },
  {
   "cell_type": "code",
   "execution_count": 92,
   "metadata": {},
   "outputs": [],
   "source": [
    "params = {'C':[0.01,0.1,1,10],'gamma':[0.01,0.1,1,10],'kernel':['rbf','poly'],'degree':[2,3]}\n",
    "grid_svr = GridSearchCV(SVR(),param_grid=params,cv=3,return_train_score=True)"
   ]
  },
  {
   "cell_type": "code",
   "execution_count": 93,
   "metadata": {},
   "outputs": [
    {
     "name": "stderr",
     "output_type": "stream",
     "text": [
      "c:\\users\\achin\\appdata\\local\\programs\\python\\python36\\lib\\site-packages\\sklearn\\model_selection\\_search.py:841: DeprecationWarning: The default of the `iid` parameter will change from True to False in version 0.22 and will be removed in 0.24. This will change numeric results when test-set sizes are unequal.\n",
      "  DeprecationWarning)\n"
     ]
    },
    {
     "data": {
      "text/plain": [
       "GridSearchCV(cv=3, error_score='raise-deprecating',\n",
       "       estimator=SVR(C=1.0, cache_size=200, coef0=0.0, degree=3, epsilon=0.1,\n",
       "  gamma='auto_deprecated', kernel='rbf', max_iter=-1, shrinking=True,\n",
       "  tol=0.001, verbose=False),\n",
       "       fit_params=None, iid='warn', n_jobs=None,\n",
       "       param_grid={'C': [0.01, 0.1, 1, 10], 'gamma': [0.01, 0.1, 1, 10], 'kernel': ['rbf', 'poly'], 'degree': [2, 3]},\n",
       "       pre_dispatch='2*n_jobs', refit=True, return_train_score=True,\n",
       "       scoring=None, verbose=0)"
      ]
     },
     "execution_count": 93,
     "metadata": {},
     "output_type": "execute_result"
    }
   ],
   "source": [
    "grid_svr.fit(Xtrain_reg_scaled,ytrain_reg)"
   ]
  },
  {
   "cell_type": "code",
   "execution_count": 94,
   "metadata": {},
   "outputs": [
    {
     "name": "stderr",
     "output_type": "stream",
     "text": [
      "c:\\users\\achin\\appdata\\local\\programs\\python\\python36\\lib\\site-packages\\ipykernel_launcher.py:1: DataConversionWarning: Data with input dtype int64, float64 were all converted to float64 by StandardScaler.\n",
      "  \"\"\"Entry point for launching an IPython kernel.\n"
     ]
    }
   ],
   "source": [
    "y_reg_pred = grid_svr.predict(sc.transform(X_reg))"
   ]
  },
  {
   "cell_type": "code",
   "execution_count": 95,
   "metadata": {},
   "outputs": [],
   "source": [
    "X_reg['revenue_pred'] = y_reg_pred"
   ]
  },
  {
   "cell_type": "code",
   "execution_count": 96,
   "metadata": {},
   "outputs": [
    {
     "data": {
      "text/plain": [
       "648         9.219715\n",
       "3900       44.533354\n",
       "3905        8.586668\n",
       "3917       61.830807\n",
       "3930       55.294123\n",
       "3931        5.877558\n",
       "3933       43.309342\n",
       "3934       29.544528\n",
       "3936       28.432140\n",
       "3940       47.904174\n",
       "3942       34.739447\n",
       "3944       53.337771\n",
       "3947       47.505054\n",
       "3949       67.587887\n",
       "8015       62.024714\n",
       "8018       30.489802\n",
       "8019      114.145137\n",
       "8024       58.843025\n",
       "8026       44.701922\n",
       "8028        0.099979\n",
       "8031       52.156310\n",
       "8037      105.019855\n",
       "8038        4.551307\n",
       "8039     1076.899620\n",
       "10671      46.271728\n",
       "10673      38.311422\n",
       "10678       0.099848\n",
       "10680      17.287582\n",
       "10683      34.084302\n",
       "10686      17.852238\n",
       "10687      33.270389\n",
       "10692      57.619508\n",
       "10693      33.469175\n",
       "10697     114.325911\n",
       "11884      20.618921\n",
       "11886      15.013929\n",
       "11898      41.965700\n",
       "11905      38.060433\n",
       "11906      21.488472\n",
       "11907      -0.100205\n",
       "12364      48.005035\n",
       "12768     305.390435\n",
       "12785       8.862468\n",
       "12790     100.729204\n",
       "12791      39.614157\n",
       "12792      42.245023\n",
       "12795      45.389815\n",
       "12796      52.212534\n",
       "12799      78.007378\n",
       "12800      37.238374\n",
       "12801       1.205206\n",
       "12802      90.213834\n",
       "12804    2902.979319\n",
       "16182      56.090041\n",
       "16208      14.400507\n",
       "Name: revenue_pred, dtype: float64"
      ]
     },
     "execution_count": 96,
     "metadata": {},
     "output_type": "execute_result"
    }
   ],
   "source": [
    "X_reg['revenue_pred']"
   ]
  },
  {
   "cell_type": "code",
   "execution_count": 97,
   "metadata": {},
   "outputs": [],
   "source": [
    "orgvspred = df.join(X_reg['revenue_pred']).fillna(0)[['totals_transactionRevenue','revenue_pred']]"
   ]
  },
  {
   "cell_type": "code",
   "execution_count": 98,
   "metadata": {},
   "outputs": [],
   "source": [
    "from sklearn.metrics import accuracy_score,r2_score,mean_absolute_error,mean_squared_error"
   ]
  },
  {
   "cell_type": "code",
   "execution_count": 99,
   "metadata": {},
   "outputs": [],
   "source": [
    "score=[]\n",
    "for metrics in [mean_absolute_error,mean_squared_error]:\n",
    "    score.append([str(metrics).split()[1],metrics(orgvspred.iloc[:,0],orgvspred.iloc[:,1])])\n"
   ]
  },
  {
   "cell_type": "code",
   "execution_count": 100,
   "metadata": {},
   "outputs": [
    {
     "name": "stdout",
     "output_type": "stream",
     "text": [
      "['mean_absolute_error', 1.268044471672293] ['mean_squared_error', 825.0314260574544]\n"
     ]
    }
   ],
   "source": [
    "print(score[0],score[1])"
   ]
  },
  {
   "cell_type": "markdown",
   "metadata": {},
   "source": [
    "# The mean absolute error is not bad. The prediction results are better than the previous exercise"
   ]
  }
 ],
 "metadata": {
  "kernelspec": {
   "display_name": "Python 3",
   "language": "python",
   "name": "python3"
  },
  "language_info": {
   "codemirror_mode": {
    "name": "ipython",
    "version": 3
   },
   "file_extension": ".py",
   "mimetype": "text/x-python",
   "name": "python",
   "nbconvert_exporter": "python",
   "pygments_lexer": "ipython3",
   "version": "3.6.7"
  }
 },
 "nbformat": 4,
 "nbformat_minor": 2
}
